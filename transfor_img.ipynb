{
 "cells": [
  {
   "cell_type": "code",
   "execution_count": 28,
   "metadata": {},
   "outputs": [
    {
     "name": "stdout",
     "output_type": "stream",
     "text": [
      "/media/tencent/Seagate/180817/180817_cut_img/HS20120323181\n",
      "/media/tencent/Seagate/180817/180817_cut_img/HS20120323188\n",
      "/media/tencent/Seagate/180817/180817_cut_img/HS20120323209\n",
      "/media/tencent/Seagate/180817/180817_cut_img/HS20120406367\n",
      "/media/tencent/Seagate/180817/180817_cut_img/HS20120606793\n",
      "/media/tencent/Seagate/180817/180817_cut_img/HS20120705992\n",
      "/media/tencent/Seagate/180817/180817_cut_img/HS20131125583\n",
      "/media/tencent/Seagate/180817/180817_cut_img/HS20170314004\n"
     ]
    }
   ],
   "source": [
    "#-*- coding: UTF-8 -*-\n",
    "%matplotlib inline\n",
    "from PIL import Image\n",
    "import cv2\n",
    "import imutils\n",
    "import os\n",
    "import matplotlib.pyplot as plt\n",
    "input_abs_path = \"/media/tencent/Seagate/180817/180817_cut_img\"\n",
    "output_abs_path = \"/media/tencent/Seagate/180817/180817_rotate_img\"\n",
    "\n",
    "for file_name  in os.listdir(input_abs_path):\n",
    "    print(\"processing input file: %s\"%(file_path))\n",
    "    file_path = os.path.join(input_abs_path,file_name)\n",
    "    out_path1 =os.path.join(output_abs_path,file_name)\n",
    "    if not os.path.exists(out_path1):\n",
    "        os.mkdir(out_path1)        \n",
    "    for video in os.listdir(file_path):\n",
    "        video_path = os.path.join(file_path,video)  \n",
    "        out_path2= os.path.join(out_path1,video)\n",
    "        if not os.path.exists(out_path2):\n",
    "            os.mkdir(out_path2)\n",
    "        for img in os.listdir(video_path):\n",
    "            out_path3= out_path2+\"/\"+img[:-4]+\".jpg\"\n",
    "            img_path = os.path.join(video_path,img)\n",
    "            im = Image.open(img_path)\n",
    "            im_rotate = im.transpose(Image.ROTATE_270)\n",
    "            im_rotate.save(out_path3)\n",
    "\n",
    "\n"
   ]
  },
  {
   "cell_type": "code",
   "execution_count": null,
   "metadata": {},
   "outputs": [],
   "source": [
    "input_path = \"/media/tencent/Seagate/180817\"\n",
    "input_abs_path = \"/media/tencent/Seagate/180817/180817_cut_img\"\n",
    "output_abs_path = \"/media/tencent/Seagate/180817/180817_rotate_img\"\n",
    "for path in os.listdir(output_abs_path):   \n",
    "    if not os.path.exists(os.path.join(output_abs_path,path,\"2.fist_right.mp4\")):\n",
    "        \n",
    "        input_video = os.path.join(input_path,path,\"2.fist_right.mp4\")\n",
    "        os.system(\"ffmpeg -i $input_video -r 50 \")\n",
    "\n",
    "\n",
    "\n"
   ]
  }
 ],
 "metadata": {
  "kernelspec": {
   "display_name": "Python 2",
   "language": "python",
   "name": "python2"
  },
  "language_info": {
   "codemirror_mode": {
    "name": "ipython",
    "version": 2
   },
   "file_extension": ".py",
   "mimetype": "text/x-python",
   "name": "python",
   "nbconvert_exporter": "python",
   "pygments_lexer": "ipython2",
   "version": "2.7.14"
  }
 },
 "nbformat": 4,
 "nbformat_minor": 2
}
